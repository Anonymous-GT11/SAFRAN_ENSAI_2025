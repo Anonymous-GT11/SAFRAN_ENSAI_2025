{
 "cells": [
  {
   "cell_type": "code",
   "execution_count": 1,
   "metadata": {},
   "outputs": [],
   "source": [
    "import numpy as np\n",
    "\n",
    "from performancemodel.turboreactors import SimpleCorpsSimpleFlux_Design, SimpleCorpsSimpleFlux_degrad_n_ratio_beta\n",
    "\n",
    "from performancemodel.base_system import h_SCSF\n",
    "\n",
    "from performancemodel.scenarios import Scenario\n",
    "\n",
    "\n",
    "\n",
    "\n",
    "%reload_ext autoreload\n",
    "%autoreload 2"
   ]
  },
  {
   "cell_type": "markdown",
   "metadata": {},
   "source": [
    "# Design Turboreactor"
   ]
  },
  {
   "cell_type": "markdown",
   "metadata": {},
   "source": [
    "We first present a simple turboreactor with all equations and values set by design. The Simple Corps Simple Flux turboreactor has 3 modules that have an impact on the temperature and pressure of the air coming through the engine:\n",
    "1. A compressor\n",
    "2. Combustion chamber\n",
    "3. HP Turbine \n",
    "\n",
    "We also have a fan and a nozzle but we consider that they do not degrade and do not change from one model to another.\n",
    "\n",
    "We define several plan in the engine, each plan is at the entry or at the exit of a module. At plan 0, 1 and 2, the air goes by without modification in its pressure or temperature.\n",
    "At plan 3, the air was compressed, at plan 4 the air was heated by the combustion chamber and the HP Turbine expanded the air. A plot of the turboreactor can be found in the plot folder of this repo.\n",
    "\n",
    "Every constant or parameters of the engine is fixed inside the methods of the class.\n",
    "\n"
   ]
  },
  {
   "cell_type": "markdown",
   "metadata": {},
   "source": [
    "We initialize the Turboreactor by design with the class SimpleCorpsSimpleFLux_Design()"
   ]
  },
  {
   "cell_type": "code",
   "execution_count": 2,
   "metadata": {},
   "outputs": [],
   "source": [
    "\n",
    "turbo_design = SimpleCorpsSimpleFlux_Design()\n"
   ]
  },
  {
   "cell_type": "markdown",
   "metadata": {},
   "source": [
    "Then we can compute a pass forward through the engine. "
   ]
  },
  {
   "cell_type": "code",
   "execution_count": 3,
   "metadata": {},
   "outputs": [
    {
     "name": "stdout",
     "output_type": "stream",
     "text": [
      "P2 191801.04700911307\n",
      "T2 360.0\n",
      "W4 14.807195600842178\n",
      "W2R 8.743400872860022\n",
      "T3 749.5943981371744\n",
      "T2 360.0\n",
      "T5 1310.4056018628257\n",
      "T5is 1267.1173354031396\n",
      "P4 1822109.946586574\n",
      "P5 651421.7694786084\n",
      "P8 651421.7694786084\n",
      "T8 1310.4056018628257\n",
      "Wf 0.32846050647756403\n"
     ]
    }
   ],
   "source": [
    "turbo_design.pass_forward(verbose=1)"
   ]
  },
  {
   "cell_type": "markdown",
   "metadata": {},
   "source": [
    "It is also possible to compute plan by plan if we respect the order of the modules. Otherwise there will be errors."
   ]
  },
  {
   "cell_type": "code",
   "execution_count": 4,
   "metadata": {},
   "outputs": [],
   "source": [
    "turbo_design.compute_plan_0()\n",
    "turbo_design.compute_plan_1()\n",
    "turbo_design.compute_plan_2()\n",
    "turbo_design.compute_plan_3()"
   ]
  },
  {
   "cell_type": "markdown",
   "metadata": {},
   "source": [
    "Then, we can output and print any variables computed inside the engine."
   ]
  },
  {
   "cell_type": "code",
   "execution_count": 5,
   "metadata": {},
   "outputs": [
    {
     "name": "stdout",
     "output_type": "stream",
     "text": [
      "1700\n",
      "14.807195600842178\n"
     ]
    }
   ],
   "source": [
    "print(turbo_design.T4)\n",
    "print(turbo_design.W5)"
   ]
  },
  {
   "cell_type": "markdown",
   "metadata": {},
   "source": [
    "# Turboreactor "
   ]
  },
  {
   "cell_type": "markdown",
   "metadata": {},
   "source": [
    "The next class of turboreactor have a few more features and can be configured to some extent. There are several differences with the design turboreactor.\n",
    "- The compressor parameters are not fixed, the pressure ratio between entering and exiting air pressure and the efficiency of the compressor is computed thanks to a map.\n",
    "- It is possible to choose a degradation coefficient for the compressor and the turbine. The degradation of the combustion chamber are too small to be considered in this simulator.\n",
    "    - For the compressor, the degradation coefficient will modify the map between air mass flow and pressure ratio / efficiency\n",
    "    - For the turbine, the degradation coefficient will modify the temperature of the air at the exit of the turbine.\n",
    "- We need to specify a power engine parameter N between 0.7 and 1.1 and a degradation coefficient for the compressor.\n",
    "- We need to specify the constant reduced air mass flow at the exit of the compressor W3R. A value between 3 and 5 is a good value because it is in the range of observed value when the system was run with a Wf between 0.5 and 10 for any N.\n",
    "\n",
    "- Since certain parameters are not fixed, we do not know the air mass flow at the entry of the engine, the pressure ratio of the compressor and the operating line of the engine. To calculate these values, the system iterates over the value of a variable named beta which is the operating line of until the system reach an equilibrium and on the fuel flow inside the combustion chamber. That is to say, the reduced air mass flow at the exit of the engine is the same observed at the operating point of our engine, same for the pressure ratio.\n",
    "\n",
    "\n"
   ]
  },
  {
   "cell_type": "code",
   "execution_count": 2,
   "metadata": {},
   "outputs": [],
   "source": [
    "turboreactor = SimpleCorpsSimpleFlux_degrad_n_ratio_beta(N=0.9, degrad_comp=1, degrad_turb=1, W3R_design=4, ratio_design=1100)\n",
    "\n"
   ]
  },
  {
   "cell_type": "markdown",
   "metadata": {},
   "source": [
    "The next line run the simulator and outputs the requested measurements. Requested measurements are any number of the following attributes :\n",
    "\n",
    "- T0, T1, T2, T3, T4, T5, T8 which are the temperature at each plan of the engine (in K)\n",
    "- P0, P1, P2, P3, P4, P5, P8 which are the pressure at each plan of the engine (in bar)\n",
    "- W0, W1, W2, W3, W4, W5, W8 which are the airflow at each plan of the engine (in kg/s)\n",
    "- W2R, W3R, W4R, W5R, W8R which are the corrected airflow at each plan of the engine where it is computed (plan 2 through 8) in (kg/s)\n",
    "- Wf which is the fuel flow in the combustion chamber (in kg/s)\n",
    "- M8 which is the mach of the air at the exit of the nozzle (in % of M1)\n",
    "- F which is the thrust of the engine (in Newton)\n",
    "\n",
    "default is [\"P3\", \"T4\", \"W5R\"].\n",
    "\n",
    "As a reminder, a turboreactor and the position of each plan is available in the plot folder"
   ]
  },
  {
   "cell_type": "code",
   "execution_count": 3,
   "metadata": {},
   "outputs": [],
   "source": [
    "measurements = turboreactor.run()"
   ]
  },
  {
   "cell_type": "code",
   "execution_count": 4,
   "metadata": {},
   "outputs": [
    {
     "data": {
      "text/plain": [
       "{'P3': 1901097.943519581, 'T4': 1898.4757339388448, 'W5R': 18.92011385522376}"
      ]
     },
     "execution_count": 4,
     "metadata": {},
     "output_type": "execute_result"
    }
   ],
   "source": [
    "measurements\n"
   ]
  },
  {
   "cell_type": "markdown",
   "metadata": {},
   "source": [
    "We can also access any of the values once we either used turboreactor.run() or turboreactor.simulator() and then call turboreactor.captor"
   ]
  },
  {
   "cell_type": "code",
   "execution_count": 5,
   "metadata": {},
   "outputs": [
    {
     "name": "stdout",
     "output_type": "stream",
     "text": [
      "360.0\n",
      "1479.1444665616382\n",
      "4\n"
     ]
    }
   ],
   "source": [
    "print(turboreactor.T0)\n",
    "print(turboreactor.T5)\n",
    "print(turboreactor.W3R)"
   ]
  },
  {
   "cell_type": "markdown",
   "metadata": {},
   "source": [
    "We can then play with the different parameters such as power engine (N), and the degradation coefficient degrad_comp and degrad_comb.\n",
    "We recommand to not change too much the W4R parameter as the reduced air flow exiting the combustion chamber as it could lead to out of definition context. But it is still possible to change it to observe how it affects the turboreactor outputs."
   ]
  },
  {
   "cell_type": "code",
   "execution_count": 6,
   "metadata": {},
   "outputs": [],
   "source": [
    "turboreactor_lowN = SimpleCorpsSimpleFlux_degrad_n_ratio_beta(N=0.7)\n",
    "turboreactor_degradedcomp = SimpleCorpsSimpleFlux_degrad_n_ratio_beta(N=0.9, degrad_comp=0.98)\n",
    "turboreactor_degradedturbine = SimpleCorpsSimpleFlux_degrad_n_ratio_beta(N=0.9, degrad_comp=0.98, degrad_turb=0.98)"
   ]
  },
  {
   "cell_type": "markdown",
   "metadata": {},
   "source": [
    "### With measurements function\n",
    "\n",
    "We also created a function in the base_system.py called h_SCSF which can be used to directly initialize a turboreactor and compute the measurements.\n",
    "\n",
    "Here one can customize the engine thanks to parameters :\n",
    "- N (engine power) defaults to 0.9 but can vary between 0.7 and 1.1\n",
    "- W3R (corrected airflow compressor exits) defaults to 3 but can vary between 2 and 8\n",
    "- ratio (ratio between corrected airflow nozzle exits and design engine) defaults to 1100 but can vary between 800 and 1500\n",
    "\n",
    "One can also customize the sensors from which we want measurements as in the previous step. Default to P3, T4 and W5R"
   ]
  },
  {
   "cell_type": "code",
   "execution_count": 12,
   "metadata": {},
   "outputs": [],
   "source": [
    "S = [\"P3\", \"T5\", \"F\", \"Wf\"]"
   ]
  },
  {
   "cell_type": "code",
   "execution_count": 20,
   "metadata": {},
   "outputs": [],
   "source": [
    "measurements = h_SCSF([[1,1], [0.99, 0.99], [0.98,0.98]], S=S)"
   ]
  },
  {
   "cell_type": "code",
   "execution_count": 21,
   "metadata": {},
   "outputs": [
    {
     "data": {
      "text/plain": [
       "array([[1.90110390e+06, 1.47916499e+03, 4.18657661e+01, 1.49434783e+00],\n",
       "       [1.90261306e+06, 1.51408029e+03, 4.10181904e+01, 1.52675788e+00],\n",
       "       [1.90448014e+06, 1.55057089e+03, 4.01772825e+01, 1.56042149e+00]])"
      ]
     },
     "execution_count": 21,
     "metadata": {},
     "output_type": "execute_result"
    }
   ],
   "source": [
    "measurements"
   ]
  },
  {
   "cell_type": "code",
   "execution_count": 14,
   "metadata": {},
   "outputs": [],
   "source": [
    "measurements_lowN = h_SCSF([[1,1], [0.99, 0.99], [0.98,0.98]], S=S, N=0.7)"
   ]
  },
  {
   "cell_type": "code",
   "execution_count": 15,
   "metadata": {},
   "outputs": [
    {
     "data": {
      "text/plain": [
       "array([[6.04065889e+05, 8.14522873e+02, 1.52541322e+01, 2.39168349e-01],\n",
       "       [5.98025231e+05, 8.24723369e+02, 1.49222105e+01, 2.42147446e-01],\n",
       "       [5.91984572e+05, 8.35148891e+02, 1.45938363e+01, 2.45137916e-01]])"
      ]
     },
     "execution_count": 15,
     "metadata": {},
     "output_type": "execute_result"
    }
   ],
   "source": [
    "measurements_lowN"
   ]
  },
  {
   "cell_type": "markdown",
   "metadata": {},
   "source": [
    "# Degradation Scenario"
   ]
  },
  {
   "cell_type": "markdown",
   "metadata": {},
   "source": [
    "In the following, we introduce the degradation scenario available at the moment. More scenarios will be added as they are implemented."
   ]
  },
  {
   "cell_type": "markdown",
   "metadata": {},
   "source": [
    "As for the turboreactor, we created a class Scenario. One must specify the speed of the degradation, it can be fast or slow, and which health indicators are concerned, it can be the combustion chamber, the compressor or both. The speed of the degradation decides the drop in values at which the parameters degrades at each step. The values of the drop can be change directly in the scenarios.py files. At the moment, the degradation are completely deterministic but randomization will be added in the future."
   ]
  },
  {
   "cell_type": "code",
   "execution_count": null,
   "metadata": {},
   "outputs": [],
   "source": [
    "slow_scenario = Scenario(\"slow\", \"both\")\n",
    "list_degradation_compressor, list_degradation_turbine = slow_scenario.generate_degradation(20,1,1)"
   ]
  },
  {
   "cell_type": "code",
   "execution_count": 14,
   "metadata": {},
   "outputs": [
    {
     "name": "stdout",
     "output_type": "stream",
     "text": [
      "[1.0, 0.99995, 0.9999, 0.99985, 0.9998, 0.99975, 0.9997, 0.99965, 0.9996, 0.99955, 0.9995, 0.99945, 0.9994, 0.99935, 0.9993, 0.99925, 0.9992, 0.99915, 0.9991, 0.99905]\n"
     ]
    }
   ],
   "source": [
    "print(list_degradation_compressor)"
   ]
  }
 ],
 "metadata": {
  "kernelspec": {
   "display_name": "jupyter_linux",
   "language": "python",
   "name": "python3"
  },
  "language_info": {
   "codemirror_mode": {
    "name": "ipython",
    "version": 3
   },
   "file_extension": ".py",
   "mimetype": "text/x-python",
   "name": "python",
   "nbconvert_exporter": "python",
   "pygments_lexer": "ipython3",
   "version": "3.11.6"
  }
 },
 "nbformat": 4,
 "nbformat_minor": 2
}
